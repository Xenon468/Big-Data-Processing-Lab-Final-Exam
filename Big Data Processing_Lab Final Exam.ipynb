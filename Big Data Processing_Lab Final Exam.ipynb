{
  "nbformat": 4,
  "nbformat_minor": 0,
  "metadata": {
    "colab": {
      "name": "Big Data Final Exam - BK01.ipynb",
      "provenance": [],
      "collapsed_sections": []
    },
    "kernelspec": {
      "name": "python3",
      "display_name": "Python 3"
    },
    "language_info": {
      "name": "python"
    }
  },
  "cells": [
    {
      "cell_type": "code",
      "metadata": {
        "id": "gXZAxJn6FvWd"
      },
      "source": [
        "!apt-get install openjdk-8-jdk-headless -qq > /dev/null\n",
        "!wget -q https://downloads.apache.org/spark/spark-3.0.2/spark-3.0.2-bin-hadoop2.7.tgz\n",
        "!tar -xvf spark-3.0.2-bin-hadoop2.7.tgz\n",
        "!pip install -q findspark\n",
        "import os\n",
        "os.environ[\"JAVA_HOME\"] = \"/usr/lib/jvm/java-8-openjdk-amd64\"\n",
        "os.environ[\"SPARK_HOME\"] = \"/content/spark-3.0.2-bin-hadoop2.7\"\n",
        "import findspark\n",
        "findspark.init()"
      ],
      "execution_count": null,
      "outputs": []
    },
    {
      "cell_type": "code",
      "metadata": {
        "id": "sYn5QM8vF017"
      },
      "source": [
        "from pyspark.sql import SparkSession\n",
        "spark = SparkSession.builder.getOrCreate()\n",
        "\n",
        "Customer = spark.read.csv(\"MsCustomer.csv\", header=True, inferSchema=True)\n",
        "Driver = spark.read.csv(\"MsDriver.csv\", header=True, inferSchema=True)\n",
        "Food = spark.read.csv(\"MsFood.csv\", header=True, inferSchema=True)\n",
        "Restaurant = spark.read.csv(\"MsRestaurant.csv\", header=True, inferSchema=True)\n",
        "TransactionHeader = spark.read.csv(\"TransactionHeader.csv\", header=True, inferSchema=True)\n",
        "TransactionDetail = spark.read.csv(\"TransactionDetail.csv\", header=True, inferSchema=True)"
      ],
      "execution_count": null,
      "outputs": []
    },
    {
      "cell_type": "code",
      "metadata": {
        "colab": {
          "base_uri": "https://localhost:8080/",
          "height": 295
        },
        "id": "p_GltO12HYX_",
        "outputId": "447eafdb-7f1e-4c3c-8cab-b5310daae5ba"
      },
      "source": [
        "import matplotlib.pyplot as plot\n",
        "\n",
        "# a.\tShow how many orders JrebFood drivers who drived using Toyota have taken in February using barplot.\n",
        "# driverToyota = spark.sql(\"\"\"\n",
        "#   SELECT d.DriverName AS Name, COUNT(th.TransactionId) AS Count\n",
        "#   FROM Driver d\n",
        "#   JOIN TransactionHeader th on th.DriverId = d.DriverId\n",
        "#   WHERE d.DriverVehicle = 'Toyota' AND MONTH(th.TransactionDate) = 2\n",
        "#   GROUP BY Name\n",
        "# \"\"\").show()\n",
        "\n",
        "driverToyota = spark.sql(\"\"\"\n",
        "  SELECT d.DriverName AS Name, COUNT(th.TransactionId) AS Count\n",
        "  FROM Driver d\n",
        "  JOIN TransactionHeader th on th.DriverId = d.DriverId\n",
        "  WHERE d.DriverVehicle = 'Toyota' AND MONTH(th.TransactionDate) = 2\n",
        "  GROUP BY Name\n",
        "\"\"\").toPandas()\n",
        "\n",
        "plot.bar(driverToyota[\"Name\"], driverToyota[\"Count\"])\n",
        "plot.title(\"Number of Orders Toyota Drivers Have Taken on February.\")\n",
        "plot.xlabel(\"Driver Name\")\n",
        "plot.ylabel(\"Order Taken\")\n",
        "plot.show()"
      ],
      "execution_count": null,
      "outputs": [
        {
          "output_type": "display_data",
          "data": {
            "image/png": "[encoded data removed]",
            "text/plain": [
              "<Figure size 432x288 with 1 Axes>"
            ]
          },
          "metadata": {
            "tags": [],
            "needs_background": "light"
          }
        }
      ]
    },
    {
      "cell_type": "code",
      "metadata": {
        "colab": {
          "base_uri": "https://localhost:8080/",
          "height": 295
        },
        "id": "Xg0EF-CpJYzS",
        "outputId": "b7fdb67f-12ba-469d-c93a-483ea1e9cb3c"
      },
      "source": [
        "# b.\tShow JrebFood partner restaurant revenue for every month in 2020 using line plot.\n",
        "# restaurantRevenue = spark.sql(\"\"\"\n",
        "#   SELECT SUM(f.FoodPrice * td.Quantity) AS Revenue\n",
        "#   FROM Restaurant r\n",
        "#   JOIN TransactionHeader th on th.RestaurantId = r.RestaurantId\n",
        "#   JOIN TransactionDetail td on td.TransactionId = th.TransactionId\n",
        "#   JOIN Food f on f.FoodId = td.FoodId\n",
        "#   WHERE r.IsPartner = 'true'\n",
        "#   GROUP BY MONTH(th.TransactionDate)\n",
        "# \"\"\").show()\n",
        "\n",
        "restaurantRevenue = spark.sql(\"\"\"\n",
        "  SELECT SUM(f.FoodPrice * td.Quantity) AS Revenue, MONTH(th.TransactionDate) AS Month,\n",
        "  CASE\n",
        "    WHEN MONTH(th.TransactionDate) = 1 THEN 'Jan'\n",
        "    WHEN MONTH(th.TransactionDate) = 2 THEN 'Feb'\n",
        "    WHEN MONTH(th.TransactionDate) = 3 THEN 'Mar'\n",
        "    WHEN MONTH(th.TransactionDate) = 4 THEN 'Apr'\n",
        "    WHEN MONTH(th.TransactionDate) = 5 THEN 'May'\n",
        "    WHEN MONTH(th.TransactionDate) = 6 THEN 'Jun'\n",
        "    WHEN MONTH(th.TransactionDate) = 7 THEN 'Jul'\n",
        "    WHEN MONTH(th.TransactionDate) = 8 THEN 'Aug'\n",
        "    WHEN MONTH(th.TransactionDate) = 9 THEN 'Sep'\n",
        "    WHEN MONTH(th.TransactionDate) = 10 THEN 'Oct'\n",
        "    WHEN MONTH(th.TransactionDate) = 11 THEN 'Nov'\n",
        "    WHEN MONTH(th.TransactionDate) = 12 THEN 'Des'\n",
        "  END AS MonthFormat\n",
        "  FROM Restaurant r\n",
        "  JOIN TransactionHeader th on th.RestaurantId = r.RestaurantId\n",
        "  JOIN TransactionDetail td on td.TransactionId = th.TransactionId\n",
        "  JOIN Food f on f.FoodId = td.FoodId\n",
        "  WHERE r.IsPartner = 'true'\n",
        "  GROUP BY MONTH(th.TransactionDate)\n",
        "  ORDER BY Month\n",
        "\"\"\").toPandas()\n",
        "\n",
        "plot.plot(restaurantRevenue[\"MonthFormat\"], restaurantRevenue[\"Revenue\"])\n",
        "plot.title(\"JrebFood Partner Restaurant Total Revenue in 2020\")\n",
        "plot.ylabel(\"Total Revenue\")\n",
        "plot.xlabel(\"Month\")\n",
        "plot.show()"
      ],
      "execution_count": null,
      "outputs": [
        {
          "output_type": "display_data",
          "data": {
            "image/png": "[encoded data removed]",
            "text/plain": [
              "<Figure size 432x288 with 1 Axes>"
            ]
          },
          "metadata": {
            "tags": [],
            "needs_background": "light"
          }
        }
      ]
    },
    {
      "cell_type": "code",
      "metadata": {
        "colab": {
          "base_uri": "https://localhost:8080/",
          "height": 264
        },
        "id": "niKgSItcM1jv",
        "outputId": "bb742d1e-d70f-4964-e649-2ebd24dab117"
      },
      "source": [
        "# c.\tShow the percentage of deliveries that JrebFood subsidize using pie plot.\n",
        "# The delivery will be subsidized based on the distance of the delivery as follows:\n",
        "\n",
        "# percentageSubsidize = spark.sql(\"\"\"\n",
        "#   SELECT COUNT(th.Distance)\n",
        "#   FROM TransactionHeader th, (\n",
        "#     SELECT th.Distance AS Distance,\n",
        "#     CASE\n",
        "#       WHEN th.Distance > AverageDistance THEN 'Subsidized Gasoline'\n",
        "#       WHEN th.Distance <= AverageDistance THEN 'Unsubsidized Gasoline'\n",
        "#     END AS Subsidize\n",
        "#     FROM TransactionHeader th, (\n",
        "#       SELECT AVG(th.Distance) AS AverageDistance\n",
        "#       FROM TransactionHeader th\n",
        "#       WHERE MONTH(th.TransactionDate) = 1\n",
        "#     )\n",
        "#   )\n",
        "#   GROUP BY Subsidize\n",
        "# \"\"\").show()\n",
        "\n",
        "percentageSubsidize = spark.sql(\"\"\"\n",
        "  SELECT COUNT(th.Distance) AS Count, Subsidize\n",
        "  FROM TransactionHeader th, (\n",
        "    SELECT th.Distance,\n",
        "    CASE\n",
        "      WHEN th.Distance > AverageDistance THEN 'Subsidized Gasoline'\n",
        "      WHEN th.Distance <= AverageDistance THEN 'Unsubsidized Gasoline'\n",
        "    END AS Subsidize\n",
        "    FROM TransactionHeader th, (\n",
        "      SELECT AVG(th.Distance) AS AverageDistance\n",
        "      FROM TransactionHeader th\n",
        "      WHERE MONTH(th.TransactionDate) = 1\n",
        "    )\n",
        "  )\n",
        "  GROUP BY Subsidize\n",
        "\"\"\").toPandas()\n",
        "\n",
        "plot.pie(percentageSubsidize[\"Count\"], labels=percentageSubsidize[\"Subsidize\"], autopct=\"%.1f%%\")\n",
        "plot.title(\"Subsidized Delivery by JrebFood\")\n",
        "plot.show()"
      ],
      "execution_count": null,
      "outputs": [
        {
          "output_type": "display_data",
          "data": {
            "image/png": "[encoded data removed]",
            "text/plain": [
              "<Figure size 432x288 with 1 Axes>"
            ]
          },
          "metadata": {
            "tags": []
          }
        }
      ]
    },
    {
      "cell_type": "code",
      "metadata": {
        "colab": {
          "base_uri": "https://localhost:8080/"
        },
        "id": "4q7EzLc7T51I",
        "outputId": "3c540cde-ebd1-4843-a76a-b8cb87c271b0"
      },
      "source": [
        "# a. Load Data\n",
        "storm_train = spark.read.csv(\"Storm_Training.csv\", header=True, inferSchema=True)\n",
        "storm_testing = spark.read.csv(\"Storm_Testing.csv\", header=True, inferSchema=True)\n",
        "\n",
        "storm_train.show(5)\n",
        "storm_testing.show(5)"
      ],
      "execution_count": null,
      "outputs": [
        {
          "output_type": "stream",
          "text": [
            "+--------------------+-------------+--------------+----------+---------+----------------+-----------+---------------+------------+\n",
            "|atmospheric_pressure|visible_cloud|wind_direction|wind_speed|sky_color|ocean_wave_speed|temperature|animal_activity|storm_coming|\n",
            "+--------------------+-------------+--------------+----------+---------+----------------+-----------+---------------+------------+\n",
            "|              1006.5|       Cirrus|          East|      78.8|    Green|            High|     Stable|           High|          No|\n",
            "|              1013.5| Cumulonimbus|         South|      51.6|   Orange|          Medium|    Decline|         Medium|         Yes|\n",
            "|              1013.2|       Cirrus|         South|      69.7|   Orange|            High|     Stable|           High|         Yes|\n",
            "|              1011.3| Cumulonimbus|          null|      59.3|   Orange|             Low|     Stable|            Low|         Yes|\n",
            "|              1013.0| Cumulonimbus|          West|      66.7|   Orange|            High|    Decline|           High|         Yes|\n",
            "+--------------------+-------------+--------------+----------+---------+----------------+-----------+---------------+------------+\n",
            "only showing top 5 rows\n",
            "\n",
            "+--------------------+-------------+--------------+----------+---------+----------------+-----------+---------------+------------+\n",
            "|atmospheric_pressure|visible_cloud|wind_direction|wind_speed|sky_color|ocean_wave_speed|temperature|animal_activity|storm_coming|\n",
            "+--------------------+-------------+--------------+----------+---------+----------------+-----------+---------------+------------+\n",
            "|              1022.5|       Cirrus|         North|      43.4|   Orange|             Low|    Decline|            Low|          No|\n",
            "|              1012.0| Cumulonimbus|         South|      40.0|    Green|            High|     Stable|           High|         Yes|\n",
            "|              1005.8| Cumulonimbus|          East|      55.3|    Green|          Medium|       Rise|            Low|         Yes|\n",
            "|              1005.0|       Cirrus|         North|      79.0|     Gray|             Low|    Decline|         Medium|          No|\n",
            "|              1005.0|       Cirrus|          East|      70.1|    Green|             Low|       Rise|         Medium|         Yes|\n",
            "+--------------------+-------------+--------------+----------+---------+----------------+-----------+---------------+------------+\n",
            "only showing top 5 rows\n",
            "\n"
          ],
          "name": "stdout"
        }
      ]
    },
    {
      "cell_type": "code",
      "metadata": {
        "id": "Di_drd64ZDDa"
      },
      "source": [
        "# b. Select Features\n",
        "storm_train = storm_train.select(\"wind_speed\", \"temperature\", \"sky_color\", \"storm_coming\")\n",
        "storm_testing = storm_testing.select(\"wind_speed\", \"temperature\", \"sky_color\", \"storm_coming\")"
      ],
      "execution_count": null,
      "outputs": []
    },
    {
      "cell_type": "code",
      "metadata": {
        "id": "WzjiVkzkbrHR"
      },
      "source": [
        "# c. Data Processing\n",
        "storm_train = storm_train.na.drop()\n",
        "storm_testing = storm_testing.na.drop()"
      ],
      "execution_count": null,
      "outputs": []
    },
    {
      "cell_type": "code",
      "metadata": {
        "id": "ji-U4AxKbw_9"
      },
      "source": [
        "from pyspark.sql.functions import when\n",
        "\n",
        "# d. Transform Data\n",
        "storm_train = storm_train.withColumn(\"temperature\", when(storm_train[\"temperature\"] == \"Decline\", 0).when(storm_train[\"temperature\"] == \"Stable\", 1).otherwise(2))\n",
        "storm_train = storm_train.withColumn(\"sky_color\", when(storm_train[\"sky_color\"] == \"Green\", 0).when(storm_train[\"sky_color\"] == \"Orange\", 1).otherwise(2))\n",
        "\n",
        "storm_testing = storm_testing.withColumn(\"temperature\", when(storm_testing[\"temperature\"] == \"Stable\", 0).when(storm_testing[\"temperature\"] == \"Stable\", 1).otherwise(2))\n",
        "storm_testing = storm_testing.withColumn(\"sky_color\", when(storm_testing[\"sky_color\"] == \"Green\", 0).when(storm_testing[\"sky_color\"] == \"Orange\", 1).otherwise(2))\n"
      ],
      "execution_count": null,
      "outputs": []
    },
    {
      "cell_type": "code",
      "metadata": {
        "id": "Fwj2ztzwdf_J"
      },
      "source": [
        "from pyspark.ml.feature import StandardScaler, VectorAssembler\n",
        "\n",
        "# e. Normalization\n",
        "storm_train = VectorAssembler(inputCols=[\"wind_speed\", \"temperature\", \"sky_color\"], outputCol=\"FeaturesTrain\").transform(storm_train)\n",
        "storm_train = StandardScaler(inputCol=\"FeaturesTrain\", outputCol=\"FeaturesTrainNormed\").fit(storm_train).transform(storm_train)\n",
        "\n",
        "storm_testing = VectorAssembler(inputCols=[\"wind_speed\", \"temperature\", \"sky_color\"], outputCol=\"FeaturesTest\").transform(storm_testing)\n",
        "storm_testing = StandardScaler(inputCol=\"FeaturesTest\", outputCol=\"FeaturesTestNormed\").fit(storm_testing).transform(storm_testing)"
      ],
      "execution_count": null,
      "outputs": []
    },
    {
      "cell_type": "code",
      "metadata": {
        "id": "joHP9n14fM_U"
      },
      "source": [
        "from pyspark.ml.classification import LogisticRegression\n",
        "\n"
      ],
      "execution_count": null,
      "outputs": []
    }
  ]
}
